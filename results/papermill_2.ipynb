{
 "cells": [
  {
   "cell_type": "code",
   "execution_count": 1,
   "metadata": {
    "execution": {
     "iopub.execute_input": "2020-10-30T09:10:49.890431Z",
     "iopub.status.busy": "2020-10-30T09:10:49.848484Z",
     "iopub.status.idle": "2020-10-30T09:10:49.956454Z",
     "shell.execute_reply": "2020-10-30T09:10:49.954989Z"
    },
    "papermill": {
     "duration": 0.167606,
     "end_time": "2020-10-30T09:10:49.956813",
     "exception": false,
     "start_time": "2020-10-30T09:10:49.789207",
     "status": "completed"
    },
    "tags": [
     "injected-parameters"
    ]
   },
   "outputs": [],
   "source": [
    "# Parameters\n",
    "ncomponents = 2\n"
   ]
  },
  {
   "cell_type": "markdown",
   "metadata": {
    "papermill": {
     "duration": 0.009933,
     "end_time": "2020-10-30T09:10:49.976897",
     "exception": false,
     "start_time": "2020-10-30T09:10:49.966964",
     "status": "completed"
    },
    "tags": []
   },
   "source": [
    "## Package loading"
   ]
  },
  {
   "cell_type": "code",
   "execution_count": 2,
   "metadata": {
    "execution": {
     "iopub.execute_input": "2020-10-30T09:10:50.068707Z",
     "iopub.status.busy": "2020-10-30T09:10:49.998781Z",
     "iopub.status.idle": "2020-10-30T09:11:03.709901Z",
     "shell.execute_reply": "2020-10-30T09:11:03.708682Z"
    },
    "papermill": {
     "duration": 13.724424,
     "end_time": "2020-10-30T09:11:03.710140",
     "exception": false,
     "start_time": "2020-10-30T09:10:49.985716",
     "status": "completed"
    },
    "tags": []
   },
   "outputs": [
    {
     "name": "stderr",
     "output_type": "stream",
     "text": [
      "── \u001b[1mAttaching packages\u001b[22m ────────────────────────────── tidyverse 1.3.0 ──\n",
      "\n"
     ]
    },
    {
     "name": "stderr",
     "output_type": "stream",
     "text": [
      "\u001b[32m✔\u001b[39m \u001b[34mggplot2\u001b[39m 3.3.2     \u001b[32m✔\u001b[39m \u001b[34mpurrr  \u001b[39m 0.3.4\n",
      "\u001b[32m✔\u001b[39m \u001b[34mtibble \u001b[39m 3.0.4     \u001b[32m✔\u001b[39m \u001b[34mdplyr  \u001b[39m 1.0.2\n",
      "\u001b[32m✔\u001b[39m \u001b[34mtidyr  \u001b[39m 1.1.2     \u001b[32m✔\u001b[39m \u001b[34mstringr\u001b[39m 1.4.0\n",
      "\u001b[32m✔\u001b[39m \u001b[34mreadr  \u001b[39m 1.4.0     \u001b[32m✔\u001b[39m \u001b[34mforcats\u001b[39m 0.5.0\n",
      "\n"
     ]
    },
    {
     "name": "stderr",
     "output_type": "stream",
     "text": [
      "── \u001b[1mConflicts\u001b[22m ───────────────────────────────── tidyverse_conflicts() ──\n",
      "\u001b[31m✖\u001b[39m \u001b[34mdplyr\u001b[39m::\u001b[32mfilter()\u001b[39m masks \u001b[34mstats\u001b[39m::filter()\n",
      "\u001b[31m✖\u001b[39m \u001b[34mdplyr\u001b[39m::\u001b[32mlag()\u001b[39m    masks \u001b[34mstats\u001b[39m::lag()\n",
      "\n"
     ]
    },
    {
     "name": "stderr",
     "output_type": "stream",
     "text": [
      "Loading required package: SummarizedExperiment\n",
      "\n"
     ]
    },
    {
     "name": "stderr",
     "output_type": "stream",
     "text": [
      "Loading required package: GenomicRanges\n",
      "\n"
     ]
    },
    {
     "name": "stderr",
     "output_type": "stream",
     "text": [
      "Loading required package: stats4\n",
      "\n"
     ]
    },
    {
     "name": "stderr",
     "output_type": "stream",
     "text": [
      "Loading required package: BiocGenerics\n",
      "\n"
     ]
    },
    {
     "name": "stderr",
     "output_type": "stream",
     "text": [
      "Loading required package: parallel\n",
      "\n"
     ]
    },
    {
     "name": "stderr",
     "output_type": "stream",
     "text": [
      "\n",
      "Attaching package: ‘BiocGenerics’\n",
      "\n",
      "\n"
     ]
    },
    {
     "name": "stderr",
     "output_type": "stream",
     "text": [
      "The following objects are masked from ‘package:parallel’:\n",
      "\n",
      "    clusterApply, clusterApplyLB, clusterCall, clusterEvalQ,\n",
      "    clusterExport, clusterMap, parApply, parCapply, parLapply,\n",
      "    parLapplyLB, parRapply, parSapply, parSapplyLB\n",
      "\n",
      "\n"
     ]
    },
    {
     "name": "stderr",
     "output_type": "stream",
     "text": [
      "The following objects are masked from ‘package:dplyr’:\n",
      "\n",
      "    combine, intersect, setdiff, union\n",
      "\n",
      "\n"
     ]
    },
    {
     "name": "stderr",
     "output_type": "stream",
     "text": [
      "The following objects are masked from ‘package:stats’:\n",
      "\n",
      "    IQR, mad, sd, var, xtabs\n",
      "\n",
      "\n"
     ]
    },
    {
     "name": "stderr",
     "output_type": "stream",
     "text": [
      "The following objects are masked from ‘package:base’:\n",
      "\n",
      "    Filter, Find, Map, Position, Reduce, anyDuplicated, append,\n",
      "    as.data.frame, basename, cbind, colnames, dirname, do.call,\n",
      "    duplicated, eval, evalq, get, grep, grepl, intersect, is.unsorted,\n",
      "    lapply, mapply, match, mget, order, paste, pmax, pmax.int, pmin,\n",
      "    pmin.int, rank, rbind, rownames, sapply, setdiff, sort, table,\n",
      "    tapply, union, unique, unsplit, which, which.max, which.min\n",
      "\n",
      "\n"
     ]
    },
    {
     "name": "stderr",
     "output_type": "stream",
     "text": [
      "Loading required package: S4Vectors\n",
      "\n"
     ]
    },
    {
     "name": "stderr",
     "output_type": "stream",
     "text": [
      "\n",
      "Attaching package: ‘S4Vectors’\n",
      "\n",
      "\n"
     ]
    },
    {
     "name": "stderr",
     "output_type": "stream",
     "text": [
      "The following objects are masked from ‘package:dplyr’:\n",
      "\n",
      "    first, rename\n",
      "\n",
      "\n"
     ]
    },
    {
     "name": "stderr",
     "output_type": "stream",
     "text": [
      "The following object is masked from ‘package:tidyr’:\n",
      "\n",
      "    expand\n",
      "\n",
      "\n"
     ]
    },
    {
     "name": "stderr",
     "output_type": "stream",
     "text": [
      "The following object is masked from ‘package:base’:\n",
      "\n",
      "    expand.grid\n",
      "\n",
      "\n"
     ]
    },
    {
     "name": "stderr",
     "output_type": "stream",
     "text": [
      "Loading required package: IRanges\n",
      "\n"
     ]
    },
    {
     "name": "stderr",
     "output_type": "stream",
     "text": [
      "\n",
      "Attaching package: ‘IRanges’\n",
      "\n",
      "\n"
     ]
    },
    {
     "name": "stderr",
     "output_type": "stream",
     "text": [
      "The following objects are masked from ‘package:dplyr’:\n",
      "\n",
      "    collapse, desc, slice\n",
      "\n",
      "\n"
     ]
    },
    {
     "name": "stderr",
     "output_type": "stream",
     "text": [
      "The following object is masked from ‘package:purrr’:\n",
      "\n",
      "    reduce\n",
      "\n",
      "\n"
     ]
    },
    {
     "name": "stderr",
     "output_type": "stream",
     "text": [
      "Loading required package: GenomeInfoDb\n",
      "\n"
     ]
    },
    {
     "name": "stderr",
     "output_type": "stream",
     "text": [
      "Loading required package: Biobase\n",
      "\n"
     ]
    },
    {
     "name": "stderr",
     "output_type": "stream",
     "text": [
      "Welcome to Bioconductor\n",
      "\n",
      "    Vignettes contain introductory material; view with\n",
      "    'browseVignettes()'. To cite Bioconductor, see\n",
      "    'citation(\"Biobase\")', and for packages 'citation(\"pkgname\")'.\n",
      "\n",
      "\n"
     ]
    },
    {
     "name": "stderr",
     "output_type": "stream",
     "text": [
      "Loading required package: DelayedArray\n",
      "\n"
     ]
    },
    {
     "name": "stderr",
     "output_type": "stream",
     "text": [
      "Loading required package: matrixStats\n",
      "\n"
     ]
    },
    {
     "name": "stderr",
     "output_type": "stream",
     "text": [
      "\n",
      "Attaching package: ‘matrixStats’\n",
      "\n",
      "\n"
     ]
    },
    {
     "name": "stderr",
     "output_type": "stream",
     "text": [
      "The following objects are masked from ‘package:Biobase’:\n",
      "\n",
      "    anyMissing, rowMedians\n",
      "\n",
      "\n"
     ]
    },
    {
     "name": "stderr",
     "output_type": "stream",
     "text": [
      "The following object is masked from ‘package:dplyr’:\n",
      "\n",
      "    count\n",
      "\n",
      "\n"
     ]
    },
    {
     "name": "stderr",
     "output_type": "stream",
     "text": [
      "\n",
      "Attaching package: ‘DelayedArray’\n",
      "\n",
      "\n"
     ]
    },
    {
     "name": "stderr",
     "output_type": "stream",
     "text": [
      "The following objects are masked from ‘package:matrixStats’:\n",
      "\n",
      "    colMaxs, colMins, colRanges, rowMaxs, rowMins, rowRanges\n",
      "\n",
      "\n"
     ]
    },
    {
     "name": "stderr",
     "output_type": "stream",
     "text": [
      "The following object is masked from ‘package:purrr’:\n",
      "\n",
      "    simplify\n",
      "\n",
      "\n"
     ]
    },
    {
     "name": "stderr",
     "output_type": "stream",
     "text": [
      "The following objects are masked from ‘package:base’:\n",
      "\n",
      "    aperm, apply, rowsum\n",
      "\n",
      "\n"
     ]
    },
    {
     "name": "stderr",
     "output_type": "stream",
     "text": [
      "Registered S3 method overwritten by 'GGally':\n",
      "  method from   \n",
      "  +.gg   ggplot2\n",
      "\n"
     ]
    },
    {
     "name": "stderr",
     "output_type": "stream",
     "text": [
      "\n",
      "Attaching package: ‘plotly’\n",
      "\n",
      "\n"
     ]
    },
    {
     "name": "stderr",
     "output_type": "stream",
     "text": [
      "The following object is masked from ‘package:IRanges’:\n",
      "\n",
      "    slice\n",
      "\n",
      "\n"
     ]
    },
    {
     "name": "stderr",
     "output_type": "stream",
     "text": [
      "The following object is masked from ‘package:S4Vectors’:\n",
      "\n",
      "    rename\n",
      "\n",
      "\n"
     ]
    },
    {
     "name": "stderr",
     "output_type": "stream",
     "text": [
      "The following object is masked from ‘package:ggplot2’:\n",
      "\n",
      "    last_plot\n",
      "\n",
      "\n"
     ]
    },
    {
     "name": "stderr",
     "output_type": "stream",
     "text": [
      "The following object is masked from ‘package:stats’:\n",
      "\n",
      "    filter\n",
      "\n",
      "\n"
     ]
    },
    {
     "name": "stderr",
     "output_type": "stream",
     "text": [
      "The following object is masked from ‘package:graphics’:\n",
      "\n",
      "    layout\n",
      "\n",
      "\n"
     ]
    },
    {
     "name": "stderr",
     "output_type": "stream",
     "text": [
      "\n",
      "Attaching package: ‘BiocStyle’\n",
      "\n",
      "\n"
     ]
    },
    {
     "name": "stderr",
     "output_type": "stream",
     "text": [
      "The following objects are masked from ‘package:rmarkdown’:\n",
      "\n",
      "    html_document, md_document, pdf_document\n",
      "\n",
      "\n"
     ]
    },
    {
     "name": "stderr",
     "output_type": "stream",
     "text": [
      "The following object is masked from ‘package:shiny’:\n",
      "\n",
      "    markdown\n",
      "\n",
      "\n"
     ]
    },
    {
     "name": "stderr",
     "output_type": "stream",
     "text": [
      "Loading required package: Seurat\n",
      "\n"
     ]
    },
    {
     "name": "stderr",
     "output_type": "stream",
     "text": [
      "Registered S3 method overwritten by 'spatstat':\n",
      "  method     from\n",
      "  print.boxx cli \n",
      "\n"
     ]
    },
    {
     "name": "stderr",
     "output_type": "stream",
     "text": [
      "\n",
      "Attaching package: ‘Seurat’\n",
      "\n",
      "\n"
     ]
    },
    {
     "name": "stderr",
     "output_type": "stream",
     "text": [
      "The following object is masked from ‘package:SummarizedExperiment’:\n",
      "\n",
      "    Assays\n",
      "\n",
      "\n"
     ]
    }
   ],
   "source": [
    "source(\"src/functions.R\")"
   ]
  },
  {
   "cell_type": "markdown",
   "metadata": {
    "papermill": {
     "duration": 0.022758,
     "end_time": "2020-10-30T09:11:03.759003",
     "exception": false,
     "start_time": "2020-10-30T09:11:03.736245",
     "status": "completed"
    },
    "tags": []
   },
   "source": [
    "## Data loading"
   ]
  },
  {
   "cell_type": "code",
   "execution_count": 3,
   "metadata": {
    "execution": {
     "iopub.execute_input": "2020-10-30T09:11:03.810453Z",
     "iopub.status.busy": "2020-10-30T09:11:03.808981Z",
     "iopub.status.idle": "2020-10-30T09:11:05.046773Z",
     "shell.execute_reply": "2020-10-30T09:11:05.045615Z"
    },
    "papermill": {
     "duration": 1.266391,
     "end_time": "2020-10-30T09:11:05.047126",
     "exception": false,
     "start_time": "2020-10-30T09:11:03.780735",
     "status": "completed"
    },
    "tags": []
   },
   "outputs": [],
   "source": [
    "load(\"results/mars.RData\")"
   ]
  },
  {
   "cell_type": "code",
   "execution_count": 4,
   "metadata": {
    "execution": {
     "iopub.execute_input": "2020-10-30T09:11:05.096743Z",
     "iopub.status.busy": "2020-10-30T09:11:05.095749Z",
     "iopub.status.idle": "2020-10-30T09:11:05.105626Z",
     "shell.execute_reply": "2020-10-30T09:11:05.104248Z"
    },
    "papermill": {
     "duration": 0.036573,
     "end_time": "2020-10-30T09:11:05.105816",
     "exception": false,
     "start_time": "2020-10-30T09:11:05.069243",
     "status": "completed"
    },
    "tags": []
   },
   "outputs": [],
   "source": [
    "## Pair/scatter plot (scater)"
   ]
  },
  {
   "cell_type": "code",
   "execution_count": 5,
   "metadata": {
    "collapsed": true,
    "execution": {
     "iopub.execute_input": "2020-10-30T09:11:05.153358Z",
     "iopub.status.busy": "2020-10-30T09:11:05.152191Z",
     "iopub.status.idle": "2020-10-30T09:11:05.911310Z",
     "shell.execute_reply": "2020-10-30T09:11:05.910959Z"
    },
    "jupyter": {
     "outputs_hidden": true
    },
    "papermill": {
     "duration": 0.784419,
     "end_time": "2020-10-30T09:11:05.911480",
     "exception": false,
     "start_time": "2020-10-30T09:11:05.127061",
     "status": "completed"
    },
    "tags": []
   },
   "outputs": [
    {
     "data": {
      "image/png": "[encoded data removed]",
      "text/plain": [
       "plot without title"
      ]
     },
     "metadata": {
      "image/png": {
       "height": 420,
       "width": 420
      }
     },
     "output_type": "display_data"
    }
   ],
   "source": [
    "sce_marsdata %>%\n",
    "\tplotReducedDim(dimred=\"PCA\", colour_by=\"group_name\", ncomponents=ncomponents)"
   ]
  },
  {
   "cell_type": "code",
   "execution_count": 6,
   "metadata": {
    "execution": {
     "iopub.execute_input": "2020-10-30T09:11:05.968757Z",
     "iopub.status.busy": "2020-10-30T09:11:05.967852Z",
     "iopub.status.idle": "2020-10-30T09:11:05.978402Z",
     "shell.execute_reply": "2020-10-30T09:11:05.977541Z"
    },
    "papermill": {
     "duration": 0.039078,
     "end_time": "2020-10-30T09:11:05.978581",
     "exception": false,
     "start_time": "2020-10-30T09:11:05.939503",
     "status": "completed"
    },
    "tags": []
   },
   "outputs": [],
   "source": [
    "## Session Information"
   ]
  },
  {
   "cell_type": "code",
   "execution_count": 7,
   "metadata": {
    "execution": {
     "iopub.execute_input": "2020-10-30T09:11:06.041214Z",
     "iopub.status.busy": "2020-10-30T09:11:06.037593Z",
     "iopub.status.idle": "2020-10-30T09:11:06.167013Z",
     "shell.execute_reply": "2020-10-30T09:11:06.165663Z"
    },
    "papermill": {
     "duration": 0.163573,
     "end_time": "2020-10-30T09:11:06.167440",
     "exception": false,
     "start_time": "2020-10-30T09:11:06.003867",
     "status": "completed"
    },
    "tags": []
   },
   "outputs": [
    {
     "data": {
      "text/plain": [
       "R version 4.0.3 (2020-10-10)\n",
       "Platform: x86_64-apple-darwin13.4.0 (64-bit)\n",
       "Running under: macOS Catalina 10.15.7\n",
       "\n",
       "Matrix products: default\n",
       "BLAS/LAPACK: /Users/tsuyusakikouki/opt/anaconda3/envs/r-4.0/lib/libopenblasp-r0.3.10.dylib\n",
       "\n",
       "locale:\n",
       "[1] C/UTF-8/C/C/C/C\n",
       "\n",
       "attached base packages:\n",
       "[1] parallel  stats4    stats     graphics  grDevices utils     datasets \n",
       "[8] methods   base     \n",
       "\n",
       "other attached packages:\n",
       " [1] schex_1.2.0                 Seurat_3.2.2               \n",
       " [3] ggbeeswarm_0.6.0            styler_1.3.2               \n",
       " [5] formatR_1.7                 lintr_2.0.1                \n",
       " [7] knitr_1.30                  BiocStyle_2.16.0           \n",
       " [9] rmarkdown_2.5               pairsD3_0.1.0              \n",
       "[11] shiny_1.5.0                 iSEE_2.0.0                 \n",
       "[13] plotly_4.9.2.1              GGally_2.0.0               \n",
       "[15] scater_1.16.0               SingleCellExperiment_1.10.1\n",
       "[17] SummarizedExperiment_1.18.1 DelayedArray_0.14.0        \n",
       "[19] matrixStats_0.57.0          Biobase_2.48.0             \n",
       "[21] GenomicRanges_1.40.0        GenomeInfoDb_1.24.0        \n",
       "[23] IRanges_2.22.1              S4Vectors_0.26.0           \n",
       "[25] BiocGenerics_0.34.0         forcats_0.5.0              \n",
       "[27] stringr_1.4.0               dplyr_1.0.2                \n",
       "[29] purrr_0.3.4                 readr_1.4.0                \n",
       "[31] tidyr_1.1.2                 tibble_3.0.4               \n",
       "[33] ggplot2_3.3.2               tidyverse_1.3.0            \n",
       "\n",
       "loaded via a namespace (and not attached):\n",
       "  [1] shinydashboard_0.7.1      reticulate_1.18          \n",
       "  [3] tidyselect_1.1.0          htmlwidgets_1.5.2        \n",
       "  [5] grid_4.0.3                BiocParallel_1.22.0      \n",
       "  [7] Rtsne_0.15                munsell_0.5.0            \n",
       "  [9] codetools_0.2-17          ica_1.0-2                \n",
       " [11] DT_0.16                   pbdZMQ_0.3-3.1           \n",
       " [13] future_1.19.1             miniUI_0.1.1.1           \n",
       " [15] withr_2.3.0               colorspace_1.4-1         \n",
       " [17] uuid_0.1-4                rstudioapi_0.11          \n",
       " [19] ROCR_1.0-11               tensor_1.5               \n",
       " [21] shinyWidgets_0.5.4        listenv_0.8.0            \n",
       " [23] labeling_0.4.2            repr_1.1.0               \n",
       " [25] GenomeInfoDbData_1.2.3    polyclip_1.10-0          \n",
       " [27] farver_2.0.3              rprojroot_1.3-2          \n",
       " [29] vctrs_0.3.4               generics_0.0.2           \n",
       " [31] xfun_0.18                 R6_2.4.1                 \n",
       " [33] clue_0.3-57               rsvd_1.0.3               \n",
       " [35] concaveman_1.1.0          rex_1.2.0                \n",
       " [37] spatstat.utils_1.17-0     bitops_1.0-6             \n",
       " [39] reshape_0.8.8             shinyAce_0.4.1           \n",
       " [41] assertthat_0.2.1          promises_1.1.1           \n",
       " [43] scales_1.1.1              beeswarm_0.2.3           \n",
       " [45] gtable_0.3.0              globals_0.13.1           \n",
       " [47] goftest_1.2-2             processx_3.4.4           \n",
       " [49] rlang_0.4.7               cyclocomp_1.1.0          \n",
       " [51] GlobalOptions_0.1.2       splines_4.0.3            \n",
       " [53] lazyeval_0.2.2            hexbin_1.28.1            \n",
       " [55] broom_0.7.2               abind_1.4-5              \n",
       " [57] reshape2_1.4.4            BiocManager_1.30.10      \n",
       " [59] yaml_2.2.1                modelr_0.1.8             \n",
       " [61] backports_1.1.10          httpuv_1.5.4             \n",
       " [63] tools_4.0.3               ellipsis_0.3.1           \n",
       " [65] RColorBrewer_1.1-2        ggridges_0.5.2           \n",
       " [67] Rcpp_1.0.5                plyr_1.8.6               \n",
       " [69] base64enc_0.1-3           zlibbioc_1.34.0          \n",
       " [71] RCurl_1.98-1.2            ps_1.4.0                 \n",
       " [73] deldir_0.1-29             rpart_4.1-15             \n",
       " [75] pbapply_1.4-3             GetoptLong_1.0.4         \n",
       " [77] viridis_0.5.1             cowplot_1.1.0            \n",
       " [79] zoo_1.8-8                 haven_2.3.1              \n",
       " [81] ggrepel_0.8.2             cluster_2.1.0            \n",
       " [83] fs_1.5.0                  magrittr_1.5             \n",
       " [85] data.table_1.13.2         circlize_0.4.10          \n",
       " [87] colourpicker_1.1.0        lmtest_0.9-38            \n",
       " [89] reprex_0.3.0              RANN_2.6.1               \n",
       " [91] fitdistrplus_1.1-1        patchwork_1.0.1          \n",
       " [93] hms_0.5.3                 shinyjs_2.0.0            \n",
       " [95] mime_0.9                  evaluate_0.14            \n",
       " [97] xtable_1.8-4              readxl_1.3.1             \n",
       " [99] gridExtra_2.3             shape_1.4.5              \n",
       "[101] compiler_4.0.3            KernSmooth_2.23-17       \n",
       "[103] crayon_1.3.4              entropy_1.2.1            \n",
       "[105] htmltools_0.5.0           mgcv_1.8-33              \n",
       "[107] later_1.1.0.1             lubridate_1.7.9          \n",
       "[109] DBI_1.1.0                 tweenr_1.0.1             \n",
       "[111] dbplyr_1.4.4              ComplexHeatmap_2.4.2     \n",
       "[113] MASS_7.3-53               Matrix_1.2-18            \n",
       "[115] cli_2.1.0                 igraph_1.2.6             \n",
       "[117] pkgconfig_2.0.3           IRdisplay_0.7.0          \n",
       "[119] xml2_1.3.2                vipor_0.4.5              \n",
       "[121] XVector_0.28.0            rvest_0.3.6              \n",
       "[123] callr_3.5.1               digest_0.6.26            \n",
       "[125] sctransform_0.3.1         RcppAnnoy_0.0.16         \n",
       "[127] spatstat.data_1.4-3       cellranger_1.1.0         \n",
       "[129] leiden_0.3.4              rintrojs_0.2.2           \n",
       "[131] uwot_0.1.8                DelayedMatrixStats_1.10.0\n",
       "[133] rjson_0.2.20              lifecycle_0.2.0          \n",
       "[135] nlme_3.1-149              jsonlite_1.7.1           \n",
       "[137] BiocNeighbors_1.6.0       desc_1.2.0               \n",
       "[139] viridisLite_0.3.0         fansi_0.4.1              \n",
       "[141] pillar_1.4.6              lattice_0.20-41          \n",
       "[143] fastmap_1.0.1             httr_1.4.2               \n",
       "[145] survival_3.2-7            glue_1.4.2               \n",
       "[147] remotes_2.2.0             spatstat_1.64-1          \n",
       "[149] png_0.1-7                 ggforce_0.3.2            \n",
       "[151] stringi_1.5.3             blob_1.2.1               \n",
       "[153] BiocSingular_1.4.0        IRkernel_1.1.1           \n",
       "[155] irlba_2.3.3               future.apply_1.6.0       "
      ]
     },
     "metadata": {},
     "output_type": "display_data"
    }
   ],
   "source": [
    "sessionInfo()"
   ]
  },
  {
   "cell_type": "code",
   "execution_count": null,
   "metadata": {
    "papermill": {
     "duration": 0.032502,
     "end_time": "2020-10-30T09:11:06.234781",
     "exception": false,
     "start_time": "2020-10-30T09:11:06.202279",
     "status": "completed"
    },
    "tags": []
   },
   "outputs": [],
   "source": []
  }
 ],
 "metadata": {
  "kernelspec": {
   "display_name": "R",
   "language": "R",
   "name": "ir"
  },
  "language_info": {
   "codemirror_mode": "r",
   "file_extension": ".r",
   "mimetype": "text/x-r-source",
   "name": "R",
   "pygments_lexer": "r",
   "version": "4.0.3"
  },
  "papermill": {
   "default_parameters": {},
   "duration": 17.838133,
   "end_time": "2020-10-30T09:11:06.390838",
   "environment_variables": {},
   "exception": null,
   "input_path": "notebooks/papermill.ipynb",
   "output_path": "results/papermill_2.ipynb",
   "parameters": {
    "ncomponents": 2
   },
   "start_time": "2020-10-30T09:10:48.552705",
   "version": "2.2.0"
  }
 },
 "nbformat": 4,
 "nbformat_minor": 4
}